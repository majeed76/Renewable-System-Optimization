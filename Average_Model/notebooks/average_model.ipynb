[![Open In Colab](https://colab.research.google.com/assets/colab-badge.svg)](https://colab.research.google.com/github/majeed76/Renewable-System-Optimization/blob/main/CODE.ipynb)
