{
  "cells": [
    {
      "cell_type": "markdown",
      "metadata": {
        "id": "view-in-github",
        "colab_type": "text"
      },
      "source": [
        "<a href=\"https://colab.research.google.com/github/majeed76/Renewable-System-Optimization/blob/main/Average_Model/notebooks/Average_Model.ipynb\" target=\"_parent\"><img src=\"https://colab.research.google.com/assets/colab-badge.svg\" alt=\"Open In Colab\"/></a>"
      ]
    },
    {
      "cell_type": "code",
      "execution_count": 55,
      "id": "a62e3a88-0f8e-48b1-9366-e808b4249c24",
      "metadata": {
        "id": "a62e3a88-0f8e-48b1-9366-e808b4249c24",
        "outputId": "bf19f250-0fce-4f93-94f7-2d7858e22fba",
        "colab": {
          "base_uri": "https://localhost:8080/"
        }
      },
      "outputs": [
        {
          "output_type": "stream",
          "name": "stderr",
          "text": [
            "<ipython-input-55-2781729045>:13: SettingWithCopyWarning:\n",
            "\n",
            "\n",
            "A value is trying to be set on a copy of a slice from a DataFrame.\n",
            "Try using .loc[row_indexer,col_indexer] = value instead\n",
            "\n",
            "See the caveats in the documentation: https://pandas.pydata.org/pandas-docs/stable/user_guide/indexing.html#returning-a-view-versus-a-copy\n",
            "\n",
            "<ipython-input-55-2781729045>:16: SettingWithCopyWarning:\n",
            "\n",
            "\n",
            "A value is trying to be set on a copy of a slice from a DataFrame.\n",
            "Try using .loc[row_indexer,col_indexer] = value instead\n",
            "\n",
            "See the caveats in the documentation: https://pandas.pydata.org/pandas-docs/stable/user_guide/indexing.html#returning-a-view-versus-a-copy\n",
            "\n"
          ]
        }
      ],
      "source": [
        "import pandas as pd\n",
        "import matplotlib.pyplot as plt\n",
        "\n",
        "# === 1. Load solar irradiance data ===\n",
        "solar_url = \"https://raw.githubusercontent.com/majeed76/Renewable-System-Optimization/main/Average_Model/data/Timeseries_2022%20(1).csv\"\n",
        "df_solar = pd.read_csv(solar_url, skiprows=10, sep=\",\", engine='python', on_bad_lines='skip')\n",
        "\n",
        "# Convert 'time' to datetime\n",
        "df_solar['time'] = pd.to_datetime(df_solar['time'], format='%Y%m%d:%H%M', errors='coerce')\n",
        "df_solar = df_solar.dropna(subset=['time'])\n",
        "\n",
        "# Convert irradiance column to numeric\n",
        "df_solar['G(i)'] = pd.to_numeric(df_solar['G(i)'], errors='coerce')\n",
        "\n",
        "# Calculate daily and hourly averages\n",
        "df_solar['date'] = df_solar['time'].dt.date\n",
        "average_daily_irradiance = df_solar.groupby('date')['G(i)'].mean().mean()\n",
        "average_hourly_irradiance = df_solar['G(i)'].mean()"
      ]
    },
    {
      "cell_type": "code",
      "source": [
        "# === 2. Load electricity demand data ===\n",
        "demand_url = \"https://raw.githubusercontent.com/majeed76/Renewable-System-Optimization/main/Average_Model/data/consommation-annuelle-residentielle-par-adresse-2022.csv\"\n",
        "df_demand = pd.read_csv(demand_url, sep=\";\")\n",
        "\n",
        "# Convert annual consumption to numeric (in MWh)\n",
        "df_demand[\"Consommation annuelle totale de l'adresse (MWh)\"] = pd.to_numeric(\n",
        "    df_demand[\"Consommation annuelle totale de l'adresse (MWh)\"], errors='coerce'\n",
        ")\n",
        "df_demand = df_demand.dropna(subset=[\"Consommation annuelle totale de l'adresse (MWh)\"])\n",
        "\n",
        "# Total and average demand\n",
        "total_annual_kWh = df_demand[\"Consommation annuelle totale de l'adresse (MWh)\"].sum() * 1000\n",
        "average_daily_kWh = total_annual_kWh / 365\n",
        "average_hourly_kWh = total_annual_kWh / 8760"
      ],
      "metadata": {
        "id": "Xkw09cCOo84Y"
      },
      "id": "Xkw09cCOo84Y",
      "execution_count": 56,
      "outputs": []
    },
    {
      "cell_type": "code",
      "source": [
        "# === 3. Display results ===\n",
        "print(\"☀️ Average hourly solar irradiance:\", round(average_hourly_irradiance, 2), \"W/m²/hour\")\n",
        "print(\"📅 Average daily solar irradiance:\", round(average_daily_irradiance, 2), \"W/m²/day\")\n",
        "print(\"🔌 Total annual electricity demand:\", round(total_annual_kWh, 2), \"kWh/year\")\n",
        "print(\"📅 Average daily electricity demand:\", round(average_daily_kWh, 2), \"kWh/day\")\n",
        "print(\"⏰ Average hourly electricity demand:\", round(average_hourly_kWh, 2), \"kWh/hour\")"
      ],
      "metadata": {
        "id": "8E7PN7vDtIk3",
        "outputId": "e92ae9f0-680a-41a5-d4bd-c563b709c858",
        "colab": {
          "base_uri": "https://localhost:8080/"
        }
      },
      "id": "8E7PN7vDtIk3",
      "execution_count": 57,
      "outputs": [
        {
          "output_type": "stream",
          "name": "stdout",
          "text": [
            "☀️ Average hourly solar irradiance: 169.31 W/m²/hour\n",
            "📅 Average daily solar irradiance: 169.31 W/m²/day\n",
            "🔌 Total annual electricity demand: 1827071546.0 kWh/year\n",
            "📅 Average daily electricity demand: 5005675.47 kWh/day\n",
            "⏰ Average hourly electricity demand: 208569.81 kWh/hour\n"
          ]
        }
      ]
    },
    {
      "cell_type": "code",
      "source": [
        "# Example parameters\n",
        "panel_area = 2.56  # m²\n",
        "panel_efficiency = 0.156\n",
        "num_panels = 1000  # example number of panels\n",
        "\n",
        "# Calculate hourly energy production per row\n",
        "df_solar['E_solar_kWh'] = num_panels * panel_area * panel_efficiency * df_solar['G(i)'] / 1000\n",
        "\n",
        "# Battery storage calculation\n",
        "efficiency = 0.9\n",
        "battery_capacity = 5_000_000  # in kWh\n",
        "battery_level = 0\n",
        "surplus = df_solar['E_solar_kWh'] - df_solar['demand_kWh']\n",
        "battery_storage = []\n",
        "\n",
        "for s in surplus:\n",
        "    battery_level += s * efficiency if s > 0 else s  # Charge or discharge\n",
        "    battery_level = max(0, min(battery_level, battery_capacity))  # Keep within limits\n",
        "    battery_storage.append(battery_level)\n",
        "\n",
        "df_solar['battery_storage'] = battery_storage\n",
        "\n",
        "# Display results\n",
        "print(\"🔋 Final battery level:\", round(battery_level, 2), \"kWh\")\n",
        "print(\"📊 Average surplus:\", round(surplus.mean(), 2), \"kWh/hour\")\n"
      ],
      "metadata": {
        "id": "-wUhXr9YHZIy",
        "outputId": "80845425-fa45-431b-fbe1-c3aefd52aba8",
        "colab": {
          "base_uri": "https://localhost:8080/",
          "height": 547
        }
      },
      "id": "-wUhXr9YHZIy",
      "execution_count": 58,
      "outputs": [
        {
          "output_type": "error",
          "ename": "KeyError",
          "evalue": "'demand_kWh'",
          "traceback": [
            "\u001b[0;31m---------------------------------------------------------------------------\u001b[0m",
            "\u001b[0;31mKeyError\u001b[0m                                  Traceback (most recent call last)",
            "\u001b[0;32m/usr/local/lib/python3.11/dist-packages/pandas/core/indexes/base.py\u001b[0m in \u001b[0;36mget_loc\u001b[0;34m(self, key)\u001b[0m\n\u001b[1;32m   3804\u001b[0m         \u001b[0;32mtry\u001b[0m\u001b[0;34m:\u001b[0m\u001b[0;34m\u001b[0m\u001b[0;34m\u001b[0m\u001b[0m\n\u001b[0;32m-> 3805\u001b[0;31m             \u001b[0;32mreturn\u001b[0m \u001b[0mself\u001b[0m\u001b[0;34m.\u001b[0m\u001b[0m_engine\u001b[0m\u001b[0;34m.\u001b[0m\u001b[0mget_loc\u001b[0m\u001b[0;34m(\u001b[0m\u001b[0mcasted_key\u001b[0m\u001b[0;34m)\u001b[0m\u001b[0;34m\u001b[0m\u001b[0;34m\u001b[0m\u001b[0m\n\u001b[0m\u001b[1;32m   3806\u001b[0m         \u001b[0;32mexcept\u001b[0m \u001b[0mKeyError\u001b[0m \u001b[0;32mas\u001b[0m \u001b[0merr\u001b[0m\u001b[0;34m:\u001b[0m\u001b[0;34m\u001b[0m\u001b[0;34m\u001b[0m\u001b[0m\n",
            "\u001b[0;32mindex.pyx\u001b[0m in \u001b[0;36mpandas._libs.index.IndexEngine.get_loc\u001b[0;34m()\u001b[0m\n",
            "\u001b[0;32mindex.pyx\u001b[0m in \u001b[0;36mpandas._libs.index.IndexEngine.get_loc\u001b[0;34m()\u001b[0m\n",
            "\u001b[0;32mpandas/_libs/hashtable_class_helper.pxi\u001b[0m in \u001b[0;36mpandas._libs.hashtable.PyObjectHashTable.get_item\u001b[0;34m()\u001b[0m\n",
            "\u001b[0;32mpandas/_libs/hashtable_class_helper.pxi\u001b[0m in \u001b[0;36mpandas._libs.hashtable.PyObjectHashTable.get_item\u001b[0;34m()\u001b[0m\n",
            "\u001b[0;31mKeyError\u001b[0m: 'demand_kWh'",
            "\nThe above exception was the direct cause of the following exception:\n",
            "\u001b[0;31mKeyError\u001b[0m                                  Traceback (most recent call last)",
            "\u001b[0;32m<ipython-input-58-1594100097>\u001b[0m in \u001b[0;36m<cell line: 0>\u001b[0;34m()\u001b[0m\n\u001b[1;32m     11\u001b[0m \u001b[0mbattery_capacity\u001b[0m \u001b[0;34m=\u001b[0m \u001b[0;36m5_000_000\u001b[0m  \u001b[0;31m# in kWh\u001b[0m\u001b[0;34m\u001b[0m\u001b[0;34m\u001b[0m\u001b[0m\n\u001b[1;32m     12\u001b[0m \u001b[0mbattery_level\u001b[0m \u001b[0;34m=\u001b[0m \u001b[0;36m0\u001b[0m\u001b[0;34m\u001b[0m\u001b[0;34m\u001b[0m\u001b[0m\n\u001b[0;32m---> 13\u001b[0;31m \u001b[0msurplus\u001b[0m \u001b[0;34m=\u001b[0m \u001b[0mdf_solar\u001b[0m\u001b[0;34m[\u001b[0m\u001b[0;34m'E_solar_kWh'\u001b[0m\u001b[0;34m]\u001b[0m \u001b[0;34m-\u001b[0m \u001b[0mdf_solar\u001b[0m\u001b[0;34m[\u001b[0m\u001b[0;34m'demand_kWh'\u001b[0m\u001b[0;34m]\u001b[0m\u001b[0;34m\u001b[0m\u001b[0;34m\u001b[0m\u001b[0m\n\u001b[0m\u001b[1;32m     14\u001b[0m \u001b[0mbattery_storage\u001b[0m \u001b[0;34m=\u001b[0m \u001b[0;34m[\u001b[0m\u001b[0;34m]\u001b[0m\u001b[0;34m\u001b[0m\u001b[0;34m\u001b[0m\u001b[0m\n\u001b[1;32m     15\u001b[0m \u001b[0;34m\u001b[0m\u001b[0m\n",
            "\u001b[0;32m/usr/local/lib/python3.11/dist-packages/pandas/core/frame.py\u001b[0m in \u001b[0;36m__getitem__\u001b[0;34m(self, key)\u001b[0m\n\u001b[1;32m   4100\u001b[0m             \u001b[0;32mif\u001b[0m \u001b[0mself\u001b[0m\u001b[0;34m.\u001b[0m\u001b[0mcolumns\u001b[0m\u001b[0;34m.\u001b[0m\u001b[0mnlevels\u001b[0m \u001b[0;34m>\u001b[0m \u001b[0;36m1\u001b[0m\u001b[0;34m:\u001b[0m\u001b[0;34m\u001b[0m\u001b[0;34m\u001b[0m\u001b[0m\n\u001b[1;32m   4101\u001b[0m                 \u001b[0;32mreturn\u001b[0m \u001b[0mself\u001b[0m\u001b[0;34m.\u001b[0m\u001b[0m_getitem_multilevel\u001b[0m\u001b[0;34m(\u001b[0m\u001b[0mkey\u001b[0m\u001b[0;34m)\u001b[0m\u001b[0;34m\u001b[0m\u001b[0;34m\u001b[0m\u001b[0m\n\u001b[0;32m-> 4102\u001b[0;31m             \u001b[0mindexer\u001b[0m \u001b[0;34m=\u001b[0m \u001b[0mself\u001b[0m\u001b[0;34m.\u001b[0m\u001b[0mcolumns\u001b[0m\u001b[0;34m.\u001b[0m\u001b[0mget_loc\u001b[0m\u001b[0;34m(\u001b[0m\u001b[0mkey\u001b[0m\u001b[0;34m)\u001b[0m\u001b[0;34m\u001b[0m\u001b[0;34m\u001b[0m\u001b[0m\n\u001b[0m\u001b[1;32m   4103\u001b[0m             \u001b[0;32mif\u001b[0m \u001b[0mis_integer\u001b[0m\u001b[0;34m(\u001b[0m\u001b[0mindexer\u001b[0m\u001b[0;34m)\u001b[0m\u001b[0;34m:\u001b[0m\u001b[0;34m\u001b[0m\u001b[0;34m\u001b[0m\u001b[0m\n\u001b[1;32m   4104\u001b[0m                 \u001b[0mindexer\u001b[0m \u001b[0;34m=\u001b[0m \u001b[0;34m[\u001b[0m\u001b[0mindexer\u001b[0m\u001b[0;34m]\u001b[0m\u001b[0;34m\u001b[0m\u001b[0;34m\u001b[0m\u001b[0m\n",
            "\u001b[0;32m/usr/local/lib/python3.11/dist-packages/pandas/core/indexes/base.py\u001b[0m in \u001b[0;36mget_loc\u001b[0;34m(self, key)\u001b[0m\n\u001b[1;32m   3810\u001b[0m             ):\n\u001b[1;32m   3811\u001b[0m                 \u001b[0;32mraise\u001b[0m \u001b[0mInvalidIndexError\u001b[0m\u001b[0;34m(\u001b[0m\u001b[0mkey\u001b[0m\u001b[0;34m)\u001b[0m\u001b[0;34m\u001b[0m\u001b[0;34m\u001b[0m\u001b[0m\n\u001b[0;32m-> 3812\u001b[0;31m             \u001b[0;32mraise\u001b[0m \u001b[0mKeyError\u001b[0m\u001b[0;34m(\u001b[0m\u001b[0mkey\u001b[0m\u001b[0;34m)\u001b[0m \u001b[0;32mfrom\u001b[0m \u001b[0merr\u001b[0m\u001b[0;34m\u001b[0m\u001b[0;34m\u001b[0m\u001b[0m\n\u001b[0m\u001b[1;32m   3813\u001b[0m         \u001b[0;32mexcept\u001b[0m \u001b[0mTypeError\u001b[0m\u001b[0;34m:\u001b[0m\u001b[0;34m\u001b[0m\u001b[0;34m\u001b[0m\u001b[0m\n\u001b[1;32m   3814\u001b[0m             \u001b[0;31m# If we have a listlike key, _check_indexing_error will raise\u001b[0m\u001b[0;34m\u001b[0m\u001b[0;34m\u001b[0m\u001b[0m\n",
            "\u001b[0;31mKeyError\u001b[0m: 'demand_kWh'"
          ]
        }
      ]
    },
    {
      "cell_type": "code",
      "source": [
        "import pandas as pd\n",
        "import numpy as np\n",
        "\n",
        "# ── 1. Load & preprocess ──────────────────────────────────────────────────────\n",
        "solar_url  = \"https://raw.githubusercontent.com/majeed76/Renewable-System-Optimization/main/Average_Model/data/Timeseries_2022%20(1).csv\"\n",
        "demand_url = \"https://raw.githubusercontent.com/majeed76/Renewable-System-Optimization/main/Average_Model/data/consommation-annuelle-residentielle-par-adresse-2022.csv\"\n",
        "\n",
        "df_solar = (\n",
        "    pd.read_csv(solar_url, skiprows=10, sep=\",\", engine='python', on_bad_lines='skip')\n",
        "      .assign(time=lambda d: pd.to_datetime(d['time'], format='%Y%m%d:%H%M', errors='coerce'))\n",
        "      .dropna(subset=['time'])\n",
        ")\n",
        "df_solar['G(i)']      = pd.to_numeric(df_solar['G(i)'], errors='coerce').fillna(0)\n",
        "\n",
        "df_demand = pd.read_csv(demand_url, sep=\";\")\n",
        "df_demand[\"MWh\"] = pd.to_numeric(df_demand[\"Consommation annuelle totale de l'adresse (MWh)\"],\n",
        "                                  errors='coerce').fillna(0)\n",
        "total_kWh        = df_demand[\"MWh\"].sum() * 1000\n",
        "avg_hourly_kWh   = total_kWh / 8760\n",
        "df_solar['demand_kWh'] = avg_hourly_kWh\n",
        "\n",
        "# ── 2. Fixed parameters ───────────────────────────────────────────────────────\n",
        "panel_area, panel_eff, batt_eff = 2.56, 0.156, 0.9\n",
        "\n",
        "# ── 3. Function: count unmet hours for a given config ─────────────────────────\n",
        "def unmet_hours(panels, capacity):\n",
        "    prod    = panels * panel_area * panel_eff * df_solar['G(i)'] / 1000\n",
        "    surplus = prod - df_solar['demand_kWh']\n",
        "    batt, unmet = 0.0, 0\n",
        "    for s in surplus:\n",
        "        if s >= 0:\n",
        "            batt += s * batt_eff\n",
        "        else:\n",
        "            if batt + s >= 0:\n",
        "                batt += s\n",
        "            else:\n",
        "                batt, unmet = 0.0, unmet + 1\n",
        "        batt = min(batt, capacity)\n",
        "    return unmet\n",
        "\n",
        "# ── 4. Search grid ─────────────────────────────────────────────────────────────\n",
        "panel_vals   = np.arange(1_000, 51_0000, 1_000)      # 1k → 50k panels\n",
        "storage_vals = np.arange(0, 5_000_001, 500_000)     # 0 → 5 MWh by 0.5 MWh\n",
        "\n",
        "rows = []\n",
        "for p in panel_vals:\n",
        "    for c in storage_vals:\n",
        "        u = unmet_hours(p, c)\n",
        "        rows.append({'panels': p, 'storage_kWh': c, 'unmet_hours': u})\n",
        "\n",
        "df = pd.DataFrame(rows)\n",
        "\n",
        "# ── 5. Pick best combination ──────────────────────────────────────────────────\n",
        "# 5.1 minimal unmet hours:\n",
        "min_unmet = df['unmet_hours'].min()\n",
        "cands     = df[df['unmet_hours'] == min_unmet]\n",
        "\n",
        "# 5.2 among those, pick minimal storage:\n",
        "min_storage = cands['storage_kWh'].min()\n",
        "cands2      = cands[cands['storage_kWh'] == min_storage]\n",
        "\n",
        "# 5.3 if still multiple, pick minimal panels:\n",
        "best        = cands2.sort_values('panels').iloc[0]\n",
        "\n",
        "print(\"Best configuration:\")\n",
        "print(f\" • Panels       = {best.panels}\")\n",
        "print(f\" • Storage (kWh)= {best.storage_kWh}\")\n",
        "print(f\" • Unmet hours  = {best.unmet_hours}\")\n"
      ],
      "metadata": {
        "id": "l_FUwgetKkAr"
      },
      "id": "l_FUwgetKkAr",
      "execution_count": null,
      "outputs": []
    },
    {
      "cell_type": "code",
      "source": [
        "!pip install scikit-optimize\n",
        "from google.colab import output\n",
        "output.enable_custom_widget_manager()\n",
        "from google.colab import output\n",
        "output.disable_custom_widget_manager()"
      ],
      "metadata": {
        "id": "GNJJGLSqW5HN",
        "outputId": "918408eb-3f83-4201-dbe0-f3514a8b9c01",
        "colab": {
          "base_uri": "https://localhost:8080/"
        }
      },
      "id": "GNJJGLSqW5HN",
      "execution_count": 67,
      "outputs": [
        {
          "output_type": "stream",
          "name": "stdout",
          "text": [
            "Requirement already satisfied: scikit-optimize in /usr/local/lib/python3.11/dist-packages (0.10.2)\n",
            "Requirement already satisfied: joblib>=0.11 in /usr/local/lib/python3.11/dist-packages (from scikit-optimize) (1.5.1)\n",
            "Requirement already satisfied: pyaml>=16.9 in /usr/local/lib/python3.11/dist-packages (from scikit-optimize) (25.5.0)\n",
            "Requirement already satisfied: numpy>=1.20.3 in /usr/local/lib/python3.11/dist-packages (from scikit-optimize) (2.0.2)\n",
            "Requirement already satisfied: scipy>=1.1.0 in /usr/local/lib/python3.11/dist-packages (from scikit-optimize) (1.15.3)\n",
            "Requirement already satisfied: scikit-learn>=1.0.0 in /usr/local/lib/python3.11/dist-packages (from scikit-optimize) (1.6.1)\n",
            "Requirement already satisfied: packaging>=21.3 in /usr/local/lib/python3.11/dist-packages (from scikit-optimize) (24.2)\n",
            "Requirement already satisfied: PyYAML in /usr/local/lib/python3.11/dist-packages (from pyaml>=16.9->scikit-optimize) (6.0.2)\n",
            "Requirement already satisfied: threadpoolctl>=3.1.0 in /usr/local/lib/python3.11/dist-packages (from scikit-learn>=1.0.0->scikit-optimize) (3.6.0)\n"
          ]
        }
      ]
    },
    {
      "cell_type": "code",
      "source": [
        "# 0) في أعلى النوتبوك تمكين دعم الـ FigureWidget\n",
        "from google.colab import output\n",
        "output.enable_custom_widget_manager()\n",
        "\n",
        "# 1) استيراد المكتبات\n",
        "import pandas as pd\n",
        "import numpy as np\n",
        "import plotly.graph_objs as go\n",
        "from skopt import gp_minimize\n",
        "from skopt.space import Integer\n",
        "from skopt.utils import use_named_args\n",
        "from IPython.display import display\n",
        "\n",
        "# 2) تحميل ومعالجة البيانات (كما عندك)\n",
        "solar_url  = \"https://raw.githubusercontent.com/majeed76/Renewable-System-Optimization/main/Average_Model/data/Timeseries_2022%20(1).csv\"\n",
        "demand_url = \"https://raw.githubusercontent.com/majeed76/Renewable-System-Optimization/main/Average_Model/data/consommation-annuelle-residentielle-par-adresse-2022.csv\"\n",
        "\n",
        "df_solar = (\n",
        "    pd.read_csv(solar_url, skiprows=10, sep=\",\", engine='python', on_bad_lines='skip')\n",
        "      .assign(time=lambda d: pd.to_datetime(d['time'], format='%Y%m%d:%H%M', errors='coerce'))\n",
        "      .dropna(subset=['time'])\n",
        ")\n",
        "df_solar['G(i)'] = pd.to_numeric(df_solar['G(i)'], errors='coerce').fillna(0)\n",
        "\n",
        "df_demand = pd.read_csv(demand_url, sep=\";\")\n",
        "df_demand[\"MWh\"] = pd.to_numeric(\n",
        "    df_demand[\"Consommation annuelle totale de l'adresse (MWh)\"],\n",
        "    errors='coerce'\n",
        ").fillna(0)\n",
        "total_kWh      = df_demand[\"MWh\"].sum() * 1000\n",
        "avg_hourly_kWh = total_kWh / 8760\n",
        "df_solar['demand_kWh'] = avg_hourly_kWh\n",
        "\n",
        "panel_area, panel_eff, batt_eff = 2.56, 0.156, 0.9\n",
        "\n",
        "def unmet_hours(panels, capacity):\n",
        "    prod    = panels * panel_area * panel_eff * df_solar['G(i)'] / 1000\n",
        "    surplus = prod - df_solar['demand_kWh']\n",
        "    batt, unmet = 0.0, 0\n",
        "    for s in surplus:\n",
        "        if s >= 0:\n",
        "            batt += s * batt_eff\n",
        "        else:\n",
        "            if batt + s >= 0:\n",
        "                batt += s\n",
        "            else:\n",
        "                batt, unmet = 0.0, unmet + 1\n",
        "        batt = min(batt, capacity)\n",
        "    return unmet\n",
        "\n",
        "# 3) إنشاء الرسم التفاعلي مرة واحدة\n",
        "fig = go.FigureWidget(\n",
        "    data=[go.Scatter(\n",
        "        x=[], y=[],\n",
        "        mode='markers',\n",
        "        marker=dict(size=[], color=[], colorscale='Viridis', showscale=True),\n",
        "    )],\n",
        "    layout=go.Layout(\n",
        "        title=\"Bayesian Optimization Progress\",\n",
        "        xaxis_title='PV Panels',\n",
        "        yaxis_title='Storage (kWh)',\n",
        "    )\n",
        ")\n",
        "display(fig)\n",
        "\n",
        "# 4) دالة الهدف\n",
        "space = [\n",
        "    Integer(1_000, 10_000_000,   name='panels'),\n",
        "    Integer(0,     10_000_000, name='capacity_kWh'),\n",
        "]\n",
        "\n",
        "@use_named_args(space)\n",
        "def objective(**p):\n",
        "    u = unmet_hours(p['panels'], p['capacity_kWh'])\n",
        "    penalty = 0.05 * p['capacity_kWh'] / 1000\n",
        "    return u + penalty\n",
        "\n",
        "# 5) callback لإضافة نقطة لكل تكرار\n",
        "def plot_callback(res):\n",
        "    p, c = res.x_iters[-1]\n",
        "    val  = res.func_vals[-1]\n",
        "    scatter = fig.data[0]\n",
        "    scatter.x += (p,)\n",
        "    scatter.y += (c,)\n",
        "    scatter.marker.size += (8,)\n",
        "    scatter.marker.color += (val,)\n",
        "\n",
        "# 6) تشغيل GP minimizer مع callback\n",
        "res = gp_minimize(\n",
        "    func            = objective,\n",
        "    dimensions      = space,\n",
        "    acq_func        = \"EI\",\n",
        "    n_calls         = 30,\n",
        "    n_random_starts = 5,\n",
        "    callback        = [plot_callback],\n",
        "    random_state    = 0\n",
        ")\n",
        "\n",
        "best_p, best_c = res.x\n",
        "best_u         = unmet_hours(best_p, best_c)\n",
        "print(f\"🔍 Best: panels={best_p}, storage={best_c} kWh, unmet_hours={best_u}\")\n"
      ],
      "metadata": {
        "id": "0TwsIJF2WluI",
        "outputId": "a83e656f-7faf-4a12-c53a-d440903ab21e",
        "colab": {
          "base_uri": "https://localhost:8080/",
          "height": 394,
          "referenced_widgets": [
            "536167949bc34e05b1f647f9621a4fff"
          ]
        }
      },
      "id": "0TwsIJF2WluI",
      "execution_count": 72,
      "outputs": [
        {
          "output_type": "display_data",
          "data": {
            "application/vnd.jupyter.widget-view+json": {
              "version_major": 2,
              "version_minor": 0,
              "model_id": "536167949bc34e05b1f647f9621a4fff"
            },
            "text/plain": [
              "FigureWidget({\n",
              "    'data': [{'marker': {'color': [],\n",
              "                         'colorscale': [[0.0, '#440154'], [0.1111111111111111,\n",
              "                                        '#482878'], [0.2222222222222222,\n",
              "                                        '#3e4989'], [0.3333333333333333,\n",
              "                                        '#31688e'], [0.4444444444444444,\n",
              "                                        '#26828e'], [0.5555555555555556,\n",
              "                                        '#1f9e89'], [0.6666666666666666,\n",
              "                                        '#35b779'], [0.7777777777777778,\n",
              "                                        '#6ece58'], [0.8888888888888888,\n",
              "                                        '#b5de2b'], [1.0, '#fde725']],\n",
              "                         'showscale': True,\n",
              "                         'size': []},\n",
              "              'mode': 'markers',\n",
              "              'type': 'scatter',\n",
              "              'uid': '68f577e8-be1f-4d06-8ffc-49f9ac39a162',\n",
              "              'x': [],\n",
              "              'y': []}],\n",
              "    'layout': {'template': '...',\n",
              "               'title': {'text': 'Bayesian Optimization Progress'},\n",
              "               'xaxis': {'title': {'text': 'PV Panels'}},\n",
              "               'yaxis': {'title': {'text': 'Storage (kWh)'}}}\n",
              "})"
            ]
          },
          "metadata": {
            "application/vnd.jupyter.widget-view+json": {
              "colab": {
                "custom_widget_manager": {
                  "url": "https://ssl.gstatic.com/colaboratory-static/widgets/colab-cdn-widget-manager/2b70e893a8ba7c0f/manager.min.js"
                }
              }
            }
          }
        },
        {
          "output_type": "stream",
          "name": "stdout",
          "text": [
            "🔍 Best: panels=10000000, storage=7107832 kWh, unmet_hours=270\n"
          ]
        }
      ]
    },
    {
      "cell_type": "markdown",
      "source": [
        "Support for third party widgets will remain active for the duration of the session. To disable support:"
      ],
      "metadata": {
        "id": "FaOGpw9YaeR7"
      },
      "id": "FaOGpw9YaeR7"
    }
  ],
  "metadata": {
    "kernelspec": {
      "display_name": "Python 3 (ipykernel)",
      "language": "python",
      "name": "python3"
    },
    "language_info": {
      "codemirror_mode": {
        "name": "ipython",
        "version": 3
      },
      "file_extension": ".py",
      "mimetype": "text/x-python",
      "name": "python",
      "nbconvert_exporter": "python",
      "pygments_lexer": "ipython3",
      "version": "3.12.7"
    },
    "colab": {
      "provenance": [],
      "include_colab_link": true
    },
    "widgets": {
      "application/vnd.jupyter.widget-state+json": {
        "536167949bc34e05b1f647f9621a4fff": {
          "model_module": "jupyterlab-plotly",
          "model_name": "FigureModel",
          "model_module_version": "^5.24.1",
          "state": {
            "_config": {
              "plotlyServerURL": "https://plot.ly"
            },
            "_data": [
              {
                "marker": {
                  "color": [],
                  "colorscale": [
                    [
                      0,
                      "#440154"
                    ],
                    [
                      0.1111111111111111,
                      "#482878"
                    ],
                    [
                      0.2222222222222222,
                      "#3e4989"
                    ],
                    [
                      0.3333333333333333,
                      "#31688e"
                    ],
                    [
                      0.4444444444444444,
                      "#26828e"
                    ],
                    [
                      0.5555555555555556,
                      "#1f9e89"
                    ],
                    [
                      0.6666666666666666,
                      "#35b779"
                    ],
                    [
                      0.7777777777777778,
                      "#6ece58"
                    ],
                    [
                      0.8888888888888888,
                      "#b5de2b"
                    ],
                    [
                      1,
                      "#fde725"
                    ]
                  ],
                  "showscale": true,
                  "size": []
                },
                "mode": "markers",
                "x": [],
                "y": [],
                "type": "scatter",
                "uid": "68f577e8-be1f-4d06-8ffc-49f9ac39a162"
              }
            ],
            "_dom_classes": [],
            "_js2py_layoutDelta": null,
            "_js2py_pointsCallback": null,
            "_js2py_relayout": null,
            "_js2py_restyle": {},
            "_js2py_traceDeltas": null,
            "_js2py_update": {},
            "_last_layout_edit_id": 121,
            "_last_trace_edit_id": 120,
            "_layout": {
              "title": {
                "text": "Bayesian Optimization Progress"
              },
              "xaxis": {
                "title": {
                  "text": "PV Panels"
                }
              },
              "yaxis": {
                "title": {
                  "text": "Storage (kWh)"
                }
              }
            },
            "_model_module": "jupyterlab-plotly",
            "_model_module_version": "^5.24.1",
            "_model_name": "FigureModel",
            "_py2js_addTraces": {},
            "_py2js_animate": {},
            "_py2js_deleteTraces": {},
            "_py2js_moveTraces": {},
            "_py2js_relayout": null,
            "_py2js_removeLayoutProps": {},
            "_py2js_removeTraceProps": {},
            "_py2js_restyle": null,
            "_py2js_update": {},
            "_view_count": 1,
            "_view_module": "jupyterlab-plotly",
            "_view_module_version": "^5.24.1",
            "_view_name": "FigureView"
          }
        }
      }
    }
  },
  "nbformat": 4,
  "nbformat_minor": 5
}