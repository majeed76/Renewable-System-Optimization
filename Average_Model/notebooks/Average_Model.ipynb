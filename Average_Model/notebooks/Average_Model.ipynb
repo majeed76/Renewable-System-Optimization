[Open in Colab](https://colab.research.google.com/github/majeed76/Renewable-System-Optimization/blob/main/Average_Model/notebooks/average_model.ipynb)
{
 "cells": [
  {
   "cell_type": "code",
   "execution_count": null,
   "id": "a62e3a88-0f8e-48b1-9366-e808b4249c24",
   "metadata": {},
   "outputs": [],
   "source": [
    "AA"
   ]
  }
 ],
 "metadata": {
  "kernelspec": {
   "display_name": "Python 3 (ipykernel)",
   "language": "python",
   "name": "python3"
  },
  "language_info": {
   "codemirror_mode": {
    "name": "ipython",
    "version": 3
   },
   "file_extension": ".py",
   "mimetype": "text/x-python",
   "name": "python",
   "nbconvert_exporter": "python",
   "pygments_lexer": "ipython3",
   "version": "3.12.7"
  }
 },
 "nbformat": 4,
 "nbformat_minor": 5
}
