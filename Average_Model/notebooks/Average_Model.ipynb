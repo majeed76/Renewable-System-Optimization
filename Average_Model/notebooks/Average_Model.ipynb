{
  "cells": [
    {
      "cell_type": "markdown",
      "metadata": {
        "id": "view-in-github",
        "colab_type": "text"
      },
      "source": [
        "<a href=\"https://colab.research.google.com/github/majeed76/Renewable-System-Optimization/blob/main/Average_Model/notebooks/Average_Model.ipynb\" target=\"_parent\"><img src=\"https://colab.research.google.com/assets/colab-badge.svg\" alt=\"Open In Colab\"/></a>"
      ]
    },
    {
      "cell_type": "code",
      "execution_count": 8,
      "id": "a62e3a88-0f8e-48b1-9366-e808b4249c24",
      "metadata": {
        "id": "a62e3a88-0f8e-48b1-9366-e808b4249c24",
        "outputId": "dc882879-d62e-4d76-a074-b0d3a43c93b7",
        "colab": {
          "base_uri": "https://localhost:8080/"
        }
      },
      "outputs": [
        {
          "output_type": "stream",
          "name": "stdout",
          "text": [
            "☀️ Avg hourly solar irradiance: 169.31 W/m²·h\n",
            "📅 Avg daily solar irradiance: 169.31 W/m²·h/day\n",
            "🌬️ Avg wind power: 142.28 kWh/hour\n",
            "🔌 Total annual demand: 1,827,071,546 kWh/year\n",
            "📅 Avg daily demand: 5,005,675.47 kWh/day\n",
            "⏰ Avg hourly demand: 208,569.81 kWh/hour\n"
          ]
        }
      ],
      "source": [
        "import pandas as pd\n",
        "\n",
        "# 1) قرّاء بيانات الشمس والطلب\n",
        "solar_url  = \"https://raw.githubusercontent.com/majeed76/Renewable-System-Optimization/main/Average_Model/data/Timeseries_2022%20(1).csv\"\n",
        "demand_url = \"https://raw.githubusercontent.com/majeed76/Renewable-System-Optimization/main/Average_Model/data/consommation-annuelle-residentielle-par-adresse-2022.csv\"\n",
        "\n",
        "df_solar = (\n",
        "    pd.read_csv(solar_url, skiprows=10, sep=\",\", engine='python', on_bad_lines='skip')\n",
        "      .assign(time=lambda d: pd.to_datetime(d['time'], format='%Y%m%d:%H%M', errors='coerce'))\n",
        "      .dropna(subset=['time'])\n",
        ")\n",
        "# نجعل G(i) و WS10m أرقام\n",
        "df_solar['G(i)']    = pd.to_numeric(df_solar['G(i)'], errors='coerce').fillna(0)\n",
        "df_solar['WS10m']  = pd.to_numeric(df_solar['WS10m'], errors='coerce').fillna(0)\n",
        "\n",
        "# 2) حساب المتوسط اليومي والشّاحني للirradiance\n",
        "df_solar['date']   = df_solar['time'].dt.date\n",
        "avg_daily_irr = df_solar.groupby('date')['G(i)'].mean().mean()       # W/m²·h/day\n",
        "avg_hourly_irr = df_solar['G(i)'].mean()                             # W/m²·h\n",
        "\n",
        "# 3) قرّاء بيانات الطلب\n",
        "df_demand = pd.read_csv(demand_url, sep=\";\")\n",
        "df_demand[\"MWh\"] = pd.to_numeric(df_demand[\"Consommation annuelle totale de l'adresse (MWh)\"],\n",
        "                                  errors='coerce').fillna(0)\n",
        "total_kWh      = df_demand[\"MWh\"].sum() * 1000\n",
        "avg_daily_kWh  = total_kWh / 365\n",
        "avg_hourly_kWh = total_kWh / 8760\n",
        "\n",
        "# 4) معطيات التوربينات\n",
        "rho       = 1.225      # air density kg/m³\n",
        "rotor_d   = 117        # rotor diameter m (Vestas V117)\n",
        "A_rotor   = 3.1416*(rotor_d/2)**2  # m²\n",
        "Cp        = 0.4        # capacity factor (مثال)\n",
        "\n",
        "# 5) متوسط إنتاج الرياح بالساعة (kWh)\n",
        "# E_wind (kW) = 0.5 * ρ * A * v³ * Cp  -> نضرب بساعة لتحويل kW·h\n",
        "avg_wind_power_kW = 0.5 * rho * A_rotor * (df_solar['WS10m']**3).mean() * Cp / 1000\n",
        "avg_wind_kWh = avg_wind_power_kW * 1    # average hourly\n",
        "\n",
        "# 6) نعرض النتائج\n",
        "print(f\"☀️ Avg hourly solar irradiance: {avg_hourly_irr:.2f} W/m²·h\")\n",
        "print(f\"📅 Avg daily solar irradiance: {avg_daily_irr:.2f} W/m²·h/day\")\n",
        "print(f\"🌬️ Avg wind power: {avg_wind_kWh:.2f} kWh/hour\")\n",
        "print(f\"🔌 Total annual demand: {total_kWh:,.0f} kWh/year\")\n",
        "print(f\"📅 Avg daily demand: {avg_daily_kWh:,.2f} kWh/day\")\n",
        "print(f\"⏰ Avg hourly demand: {avg_hourly_kWh:,.2f} kWh/hour\")\n"
      ]
    },
    {
      "cell_type": "code",
      "source": [
        "# === 2. Load electricity demand data ===\n",
        "demand_url = \"https://raw.githubusercontent.com/majeed76/Renewable-System-Optimization/main/Average_Model/data/consommation-annuelle-residentielle-par-adresse-2022.csv\"\n",
        "df_demand = pd.read_csv(demand_url, sep=\";\")\n",
        "\n",
        "# Convert annual consumption to numeric (in MWh)\n",
        "df_demand[\"Consommation annuelle totale de l'adresse (MWh)\"] = pd.to_numeric(\n",
        "    df_demand[\"Consommation annuelle totale de l'adresse (MWh)\"], errors='coerce'\n",
        ")\n",
        "df_demand = df_demand.dropna(subset=[\"Consommation annuelle totale de l'adresse (MWh)\"])\n",
        "\n",
        "# Total and average demand\n",
        "total_annual_kWh = df_demand[\"Consommation annuelle totale de l'adresse (MWh)\"].sum() * 1000\n",
        "average_daily_kWh = total_annual_kWh / 365\n",
        "average_hourly_kWh = total_annual_kWh / 8760"
      ],
      "metadata": {
        "id": "Xkw09cCOo84Y"
      },
      "id": "Xkw09cCOo84Y",
      "execution_count": null,
      "outputs": []
    },
    {
      "cell_type": "code",
      "source": [
        "# === 3. Display results ===\n",
        "print(\"☀️ Average hourly solar irradiance:\", round(average_hourly_irradiance, 2), \"W/m²/hour\")\n",
        "print(\"📅 Average daily solar irradiance:\", round(average_daily_irradiance, 2), \"W/m²/day\")\n",
        "print(\"🔌 Total annual electricity demand:\", round(total_annual_kWh, 2), \"kWh/year\")\n",
        "print(\"📅 Average daily electricity demand:\", round(average_daily_kWh, 2), \"kWh/day\")\n",
        "print(\"⏰ Average hourly electricity demand:\", round(average_hourly_kWh, 2), \"kWh/hour\")"
      ],
      "metadata": {
        "id": "8E7PN7vDtIk3",
        "outputId": "e92ae9f0-680a-41a5-d4bd-c563b709c858",
        "colab": {
          "base_uri": "https://localhost:8080/"
        }
      },
      "id": "8E7PN7vDtIk3",
      "execution_count": null,
      "outputs": [
        {
          "output_type": "stream",
          "name": "stdout",
          "text": [
            "☀️ Average hourly solar irradiance: 169.31 W/m²/hour\n",
            "📅 Average daily solar irradiance: 169.31 W/m²/day\n",
            "🔌 Total annual electricity demand: 1827071546.0 kWh/year\n",
            "📅 Average daily electricity demand: 5005675.47 kWh/day\n",
            "⏰ Average hourly electricity demand: 208569.81 kWh/hour\n"
          ]
        }
      ]
    },
    {
      "cell_type": "code",
      "source": [
        "!pip install scikit-optimize\n",
        "from google.colab import output\n",
        "output.enable_custom_widget_manager()\n",
        "from google.colab import output\n",
        "output.disable_custom_widget_manager()"
      ],
      "metadata": {
        "id": "GNJJGLSqW5HN",
        "outputId": "a2ef654e-a572-4ab1-fe9a-e53b9a423cdf",
        "colab": {
          "base_uri": "https://localhost:8080/"
        }
      },
      "id": "GNJJGLSqW5HN",
      "execution_count": 2,
      "outputs": [
        {
          "output_type": "stream",
          "name": "stdout",
          "text": [
            "Collecting scikit-optimize\n",
            "  Downloading scikit_optimize-0.10.2-py2.py3-none-any.whl.metadata (9.7 kB)\n",
            "Requirement already satisfied: joblib>=0.11 in /usr/local/lib/python3.11/dist-packages (from scikit-optimize) (1.5.1)\n",
            "Collecting pyaml>=16.9 (from scikit-optimize)\n",
            "  Downloading pyaml-25.5.0-py3-none-any.whl.metadata (12 kB)\n",
            "Requirement already satisfied: numpy>=1.20.3 in /usr/local/lib/python3.11/dist-packages (from scikit-optimize) (2.0.2)\n",
            "Requirement already satisfied: scipy>=1.1.0 in /usr/local/lib/python3.11/dist-packages (from scikit-optimize) (1.15.3)\n",
            "Requirement already satisfied: scikit-learn>=1.0.0 in /usr/local/lib/python3.11/dist-packages (from scikit-optimize) (1.6.1)\n",
            "Requirement already satisfied: packaging>=21.3 in /usr/local/lib/python3.11/dist-packages (from scikit-optimize) (24.2)\n",
            "Requirement already satisfied: PyYAML in /usr/local/lib/python3.11/dist-packages (from pyaml>=16.9->scikit-optimize) (6.0.2)\n",
            "Requirement already satisfied: threadpoolctl>=3.1.0 in /usr/local/lib/python3.11/dist-packages (from scikit-learn>=1.0.0->scikit-optimize) (3.6.0)\n",
            "Downloading scikit_optimize-0.10.2-py2.py3-none-any.whl (107 kB)\n",
            "\u001b[2K   \u001b[90m━━━━━━━━━━━━━━━━━━━━━━━━━━━━━━━━━━━━━━━━\u001b[0m \u001b[32m107.8/107.8 kB\u001b[0m \u001b[31m1.7 MB/s\u001b[0m eta \u001b[36m0:00:00\u001b[0m\n",
            "\u001b[?25hDownloading pyaml-25.5.0-py3-none-any.whl (26 kB)\n",
            "Installing collected packages: pyaml, scikit-optimize\n",
            "Successfully installed pyaml-25.5.0 scikit-optimize-0.10.2\n"
          ]
        }
      ]
    },
    {
      "cell_type": "code",
      "source": [
        "# 1) استيراد المكتبات\n",
        "import pandas as pd\n",
        "import numpy as np\n",
        "import plotly.graph_objs as go\n",
        "from skopt import gp_minimize\n",
        "from skopt.space import Integer\n",
        "from skopt.utils import use_named_args\n",
        "from IPython.display import display\n",
        "\n",
        "# 2) تحميل ومعالجة البيانات (كما عندك)\n",
        "solar_url  = \"https://raw.githubusercontent.com/majeed76/Renewable-System-Optimization/main/Average_Model/data/Timeseries_2022%20(1).csv\"\n",
        "demand_url = \"https://raw.githubusercontent.com/majeed76/Renewable-System-Optimization/main/Average_Model/data/consommation-annuelle-residentielle-par-adresse-2022.csv\"\n",
        "\n",
        "df_solar = (\n",
        "    pd.read_csv(solar_url, skiprows=10, sep=\",\", engine='python', on_bad_lines='skip')\n",
        "      .assign(time=lambda d: pd.to_datetime(d['time'], format='%Y%m%d:%H%M', errors='coerce'))\n",
        "      .dropna(subset=['time'])\n",
        ")\n",
        "df_solar['G(i)'] = pd.to_numeric(df_solar['G(i)'], errors='coerce').fillna(0)\n",
        "\n",
        "df_demand = pd.read_csv(demand_url, sep=\";\")\n",
        "df_demand[\"MWh\"] = pd.to_numeric(\n",
        "    df_demand[\"Consommation annuelle totale de l'adresse (MWh)\"],\n",
        "    errors='coerce'\n",
        ").fillna(0)\n",
        "total_kWh      = df_demand[\"MWh\"].sum() * 1000\n",
        "avg_hourly_kWh = total_kWh / 8760\n",
        "df_solar['demand_kWh'] = avg_hourly_kWh\n",
        "\n",
        "panel_area, panel_eff, batt_eff = 2.56, 0.156, 0.9\n",
        "\n",
        "def unmet_hours(panels, capacity):\n",
        "    prod    = panels * panel_area * panel_eff * df_solar['G(i)'] / 1000\n",
        "    surplus = prod - df_solar['demand_kWh']\n",
        "    batt, unmet = 0.0, 0\n",
        "    for s in surplus:\n",
        "        if s >= 0:\n",
        "            batt += s * batt_eff\n",
        "        else:\n",
        "            if batt + s >= 0:\n",
        "                batt += s\n",
        "            else:\n",
        "                batt, unmet = 0.0, unmet + 1\n",
        "        batt = min(batt, capacity)\n",
        "    return unmet\n",
        "\n",
        "# 3) إنشاء الرسم التفاعلي مرة واحدة\n",
        "fig = go.FigureWidget(\n",
        "    data=[go.Scatter(\n",
        "        x=[], y=[],\n",
        "        mode='markers',\n",
        "        marker=dict(size=[], color=[], colorscale='Viridis', showscale=True),\n",
        "    )],\n",
        "    layout=go.Layout(\n",
        "        title=\"Bayesian Optimization Progress\",\n",
        "        xaxis_title='PV Panels',\n",
        "        yaxis_title='Storage (kWh)',\n",
        "    )\n",
        ")\n",
        "display(fig)\n",
        "\n",
        "# 4) دالة الهدف\n",
        "space = [\n",
        "    Integer(1_000, 5_000_000,   name='panels'),\n",
        "    Integer(0,     10_000_000, name='capacity_kWh'),\n",
        "]\n",
        "\n",
        "@use_named_args(space)\n",
        "def objective(**p):\n",
        "    u = unmet_hours(p['panels'], p['capacity_kWh'])\n",
        "    penalty = 0.05 * p['capacity_kWh'] / 1000\n",
        "    return u + penalty\n",
        "\n",
        "# 5) callback لإضافة نقطة لكل تكرار\n",
        "def plot_callback(res):\n",
        "    p, c = res.x_iters[-1]\n",
        "    val  = res.func_vals[-1]\n",
        "    scatter = fig.data[0]\n",
        "    scatter.x += (p,)\n",
        "    scatter.y += (c,)\n",
        "    scatter.marker.size += (8,)\n",
        "    scatter.marker.color += (val,)\n",
        "\n",
        "# 6) تشغيل GP minimizer مع callback\n",
        "res = gp_minimize(\n",
        "    func            = objective,\n",
        "    dimensions      = space,\n",
        "    acq_func        = \"EI\",\n",
        "    n_calls         = 30,\n",
        "    n_random_starts = 5,\n",
        "    callback        = [plot_callback],\n",
        "    random_state    = 0\n",
        ")\n",
        "\n",
        "best_p, best_c = res.x\n",
        "best_u         = unmet_hours(best_p, best_c)\n",
        "print(f\"🔍 Best: panels={best_p}, storage={best_c} kWh, unmet_hours={best_u}\")\n"
      ],
      "metadata": {
        "id": "0TwsIJF2WluI",
        "outputId": "f7726455-28c7-46f0-db86-131daf10a601",
        "colab": {
          "base_uri": "https://localhost:8080/",
          "height": 394,
          "referenced_widgets": [
            "f2db47356e724ef58bc7b47b966a2363"
          ]
        }
      },
      "id": "0TwsIJF2WluI",
      "execution_count": 9,
      "outputs": [
        {
          "output_type": "display_data",
          "data": {
            "application/vnd.jupyter.widget-view+json": {
              "version_major": 2,
              "version_minor": 0,
              "model_id": "f2db47356e724ef58bc7b47b966a2363"
            },
            "text/plain": [
              "FigureWidget({\n",
              "    'data': [{'marker': {'color': [],\n",
              "                         'colorscale': [[0.0, '#440154'], [0.1111111111111111,\n",
              "                                        '#482878'], [0.2222222222222222,\n",
              "                                        '#3e4989'], [0.3333333333333333,\n",
              "                                        '#31688e'], [0.4444444444444444,\n",
              "                                        '#26828e'], [0.5555555555555556,\n",
              "                                        '#1f9e89'], [0.6666666666666666,\n",
              "                                        '#35b779'], [0.7777777777777778,\n",
              "                                        '#6ece58'], [0.8888888888888888,\n",
              "                                        '#b5de2b'], [1.0, '#fde725']],\n",
              "                         'showscale': True,\n",
              "                         'size': []},\n",
              "              'mode': 'markers',\n",
              "              'type': 'scatter',\n",
              "              'uid': '994e5119-aff3-41d7-96fd-b7a2887d1ab9',\n",
              "              'x': [],\n",
              "              'y': []}],\n",
              "    'layout': {'template': '...',\n",
              "               'title': {'text': 'Bayesian Optimization Progress'},\n",
              "               'xaxis': {'title': {'text': 'PV Panels'}},\n",
              "               'yaxis': {'title': {'text': 'Storage (kWh)'}}}\n",
              "})"
            ]
          },
          "metadata": {
            "application/vnd.jupyter.widget-view+json": {
              "colab": {
                "custom_widget_manager": {
                  "url": "https://ssl.gstatic.com/colaboratory-static/widgets/colab-cdn-widget-manager/2b70e893a8ba7c0f/manager.min.js"
                }
              }
            }
          }
        },
        {
          "output_type": "stream",
          "name": "stdout",
          "text": [
            "🔍 Best: panels=5000000, storage=6514847 kWh, unmet_hours=1237\n"
          ]
        }
      ]
    },
    {
      "cell_type": "code",
      "source": [
        "# 2) imports\n",
        "import warnings\n",
        "warnings.filterwarnings(\"ignore\", category=UserWarning)\n",
        "import pandas as pd\n",
        "import numpy as np\n",
        "import plotly.graph_objs as go\n",
        "from skopt import gp_minimize\n",
        "from skopt.space import Integer\n",
        "from skopt.utils import use_named_args\n",
        "from IPython.display import display\n",
        "\n",
        "# 3) load & preprocess (same as before)\n",
        "solar_url  = \"https://raw.githubusercontent.com/majeed76/Renewable-System-Optimization/main/Average_Model/data/Timeseries_2022%20(1).csv\"\n",
        "demand_url = \"https://raw.githubusercontent.com/majeed76/Renewable-System-Optimization/main/Average_Model/data/consommation-annuelle-residentielle-par-adresse-2022.csv\"\n",
        "\n",
        "df_solar = (\n",
        "    pd.read_csv(solar_url, skiprows=10, sep=\",\", engine='python', on_bad_lines='skip')\n",
        "      .assign(time=lambda d: pd.to_datetime(d['time'], format='%Y%m%d:%H%M', errors='coerce'))\n",
        "      .dropna(subset=['time'])\n",
        ")\n",
        "df_solar['G(i)']  = pd.to_numeric(df_solar['G(i)'], errors='coerce').fillna(0)\n",
        "df_solar['WS10m'] = pd.to_numeric(df_solar['WS10m'], errors='coerce').fillna(0)\n",
        "\n",
        "df_demand = pd.read_csv(demand_url, sep=\";\")\n",
        "df_demand[\"MWh\"] = pd.to_numeric(\n",
        "    df_demand[\"Consommation annuelle totale de l'adresse (MWh)\"],\n",
        "    errors='coerce'\n",
        ").fillna(0)\n",
        "total_kWh      = df_demand[\"MWh\"].sum() * 1000\n",
        "avg_hourly_kWh = total_kWh / 8760\n",
        "df_solar['demand_kWh'] = avg_hourly_kWh\n",
        "\n",
        "# 4) fixed params\n",
        "panel_area, panel_eff, batt_eff = 2.56, 0.156, 0.9\n",
        "rho = 1.225\n",
        "rotor_d = 117\n",
        "A_rotor = np.pi*(rotor_d/2)**2\n",
        "Cp = 0.4\n",
        "\n",
        "def unmet_hours(params):\n",
        "    panels, turbines, capacity = params\n",
        "    prod_s = panels * panel_area * panel_eff * df_solar['G(i)'] / 1000\n",
        "    prod_w = turbines * 0.5 * rho * A_rotor * (df_solar['WS10m']**3) * Cp / 1000\n",
        "    surplus = (prod_s + prod_w) - df_solar['demand_kWh']\n",
        "    batt = unmet = 0\n",
        "    for s in surplus:\n",
        "        if s >= 0:\n",
        "            batt += s * batt_eff\n",
        "        else:\n",
        "            if batt + s >= 0:\n",
        "                batt += s\n",
        "            else:\n",
        "                unmet += 1\n",
        "                batt = 0\n",
        "        batt = min(batt, capacity)\n",
        "    return unmet\n",
        "\n",
        "# 5) search space\n",
        "space = [\n",
        "    Integer( 1_000, 50_000,    name='panels'),\n",
        "    Integer(     0,  1_000,    name='turbines'),\n",
        "    Integer(     0, 10_000_000, name='capacity'),\n",
        "]\n",
        "\n",
        "# 6) build a larger, cleaner 3D FigureWidget\n",
        "fig = go.FigureWidget(\n",
        "    data=[go.Scatter3d(\n",
        "        x=[], y=[], z=[],\n",
        "        mode='markers',\n",
        "        marker=dict(\n",
        "            size=6,\n",
        "            color=[],\n",
        "            colorscale='Viridis',\n",
        "            showscale=True,\n",
        "            colorbar=dict(title='Obj<br>(unmet+penalty)', lenmode='fraction', len=0.6),\n",
        "            line=dict(width=1, color='DarkSlateGrey'),\n",
        "            opacity=0.8\n",
        "        )\n",
        "    )],\n",
        "    layout=go.Layout(\n",
        "        title=dict(text=\"🔍 BO Progress: Panels ↔ Turbines ↔ Storage\", x=0.5, font=dict(size=20)),\n",
        "        scene=dict(\n",
        "            xaxis=dict(title='PV Panels', titlefont=dict(size=14), tickfont=dict(size=12)),\n",
        "            yaxis=dict(title='Wind Turbines', titlefont=dict(size=14), tickfont=dict(size=12)),\n",
        "            zaxis=dict(title='Storage (kWh)', titlefont=dict(size=14), tickfont=dict(size=12)),\n",
        "            camera=dict(eye=dict(x=1.5, y=1.5, z=1.2))\n",
        "        ),\n",
        "        margin=dict(l=0, r=0, b=0, t=40),\n",
        "        width=900,\n",
        "        height=700,\n",
        "    )\n",
        ")\n",
        "display(fig)\n",
        "\n",
        "# 7) callback to append each new point in place\n",
        "def plot_cb(res):\n",
        "    p,t,c = res.x_iters[-1]\n",
        "    val   = res.func_vals[-1]\n",
        "    sc = fig.data[0]\n",
        "    sc.x += (p,)\n",
        "    sc.y += (t,)\n",
        "    sc.z += (c,)\n",
        "    sc.marker.color += (val,)\n",
        "\n",
        "# 8) objective with small storage penalty\n",
        "@use_named_args(space)\n",
        "def objective(**kw):\n",
        "    return unmet_hours((kw['panels'], kw['turbines'], kw['capacity'])) + 0.05*kw['capacity']/1000\n",
        "\n",
        "# 9) run GP\n",
        "res = gp_minimize(\n",
        "    func            = objective,\n",
        "    dimensions      = space,\n",
        "    acq_func        = \"EI\",\n",
        "    n_calls         = 30,\n",
        "    n_random_starts = 5,\n",
        "    callback        = [plot_cb],\n",
        "    random_state    = 0\n",
        ")\n",
        "\n",
        "best = res.x\n",
        "print(f\"🎯 Best → Panels={best[0]}, Turbines={best[1]}, Storage={best[2]} kWh, Unmet={unmet_hours(best)}\")\n"
      ],
      "metadata": {
        "id": "sm25Ag48MeaM",
        "outputId": "a53aeddd-ebdd-4a67-cf0f-c97ab4b6c082",
        "colab": {
          "base_uri": "https://localhost:8080/",
          "height": 734,
          "referenced_widgets": [
            "7ad58ba15e064ca98975387edd18820d"
          ]
        }
      },
      "id": "sm25Ag48MeaM",
      "execution_count": 12,
      "outputs": [
        {
          "output_type": "display_data",
          "data": {
            "application/vnd.jupyter.widget-view+json": {
              "version_major": 2,
              "version_minor": 0,
              "model_id": "7ad58ba15e064ca98975387edd18820d"
            },
            "text/plain": [
              "FigureWidget({\n",
              "    'data': [{'marker': {'color': [],\n",
              "                         'colorbar': {'len': 0.6, 'lenmode': 'fraction', 'title': {'text': 'Obj<br>(unmet+penalty)'}},\n",
              "                         'colorscale': [[0.0, '#440154'], [0.1111111111111111,\n",
              "                                        '#482878'], [0.2222222222222222,\n",
              "                                        '#3e4989'], [0.3333333333333333,\n",
              "                                        '#31688e'], [0.4444444444444444,\n",
              "                                        '#26828e'], [0.5555555555555556,\n",
              "                                        '#1f9e89'], [0.6666666666666666,\n",
              "                                        '#35b779'], [0.7777777777777778,\n",
              "                                        '#6ece58'], [0.8888888888888888,\n",
              "                                        '#b5de2b'], [1.0, '#fde725']],\n",
              "                         'line': {'color': 'DarkSlateGrey', 'width': 1},\n",
              "                         'opacity': 0.8,\n",
              "                         'showscale': True,\n",
              "                         'size': 6},\n",
              "              'mode': 'markers',\n",
              "              'type': 'scatter3d',\n",
              "              'uid': '1245e5f4-d07a-4dd6-98a3-d0725dc36692',\n",
              "              'x': [],\n",
              "              'y': [],\n",
              "              'z': []}],\n",
              "    'layout': {'height': 700,\n",
              "               'margin': {'b': 0, 'l': 0, 'r': 0, 't': 40},\n",
              "               'scene': {'camera': {'eye': {'x': 1.5, 'y': 1.5, 'z': 1.2}},\n",
              "                         'xaxis': {'tickfont': {'size': 12}, 'title': {'font': {'size': 14}, 'text': 'PV Panels'}},\n",
              "                         'yaxis': {'tickfont': {'size': 12}, 'title': {'font': {'size': 14}, 'text': 'Wind Turbines'}},\n",
              "                         'zaxis': {'tickfont': {'size': 12}, 'title': {'font': {'size': 14}, 'text': 'Storage (kWh)'}}},\n",
              "               'template': '...',\n",
              "               'title': {'font': {'size': 20}, 'text': '🔍 BO Progress: Panels ↔ Turbines ↔ Storage', 'x': 0.5},\n",
              "               'width': 900}\n",
              "})"
            ]
          },
          "metadata": {
            "application/vnd.jupyter.widget-view+json": {
              "colab": {
                "custom_widget_manager": {
                  "url": "https://ssl.gstatic.com/colaboratory-static/widgets/colab-cdn-widget-manager/2b70e893a8ba7c0f/manager.min.js"
                }
              }
            }
          }
        },
        {
          "output_type": "stream",
          "name": "stdout",
          "text": [
            "🎯 Best → Panels=50000, Turbines=1000, Storage=8772632 kWh, Unmet=5478\n"
          ]
        }
      ]
    },
    {
      "cell_type": "markdown",
      "source": [
        "Support for third party widgets will remain active for the duration of the session. To disable support:"
      ],
      "metadata": {
        "id": "FaOGpw9YaeR7"
      },
      "id": "FaOGpw9YaeR7"
    }
  ],
  "metadata": {
    "kernelspec": {
      "display_name": "Python 3 (ipykernel)",
      "language": "python",
      "name": "python3"
    },
    "language_info": {
      "codemirror_mode": {
        "name": "ipython",
        "version": 3
      },
      "file_extension": ".py",
      "mimetype": "text/x-python",
      "name": "python",
      "nbconvert_exporter": "python",
      "pygments_lexer": "ipython3",
      "version": "3.12.7"
    },
    "colab": {
      "provenance": [],
      "include_colab_link": true
    },
    "widgets": {
      "application/vnd.jupyter.widget-state+json": {
        "f2db47356e724ef58bc7b47b966a2363": {
          "model_module": "jupyterlab-plotly",
          "model_name": "FigureModel",
          "model_module_version": "^5.24.1",
          "state": {
            "_config": {
              "plotlyServerURL": "https://plot.ly"
            },
            "_data": [
              {
                "marker": {
                  "color": [],
                  "colorscale": [
                    [
                      0,
                      "#440154"
                    ],
                    [
                      0.1111111111111111,
                      "#482878"
                    ],
                    [
                      0.2222222222222222,
                      "#3e4989"
                    ],
                    [
                      0.3333333333333333,
                      "#31688e"
                    ],
                    [
                      0.4444444444444444,
                      "#26828e"
                    ],
                    [
                      0.5555555555555556,
                      "#1f9e89"
                    ],
                    [
                      0.6666666666666666,
                      "#35b779"
                    ],
                    [
                      0.7777777777777778,
                      "#6ece58"
                    ],
                    [
                      0.8888888888888888,
                      "#b5de2b"
                    ],
                    [
                      1,
                      "#fde725"
                    ]
                  ],
                  "showscale": true,
                  "size": []
                },
                "mode": "markers",
                "x": [],
                "y": [],
                "type": "scatter",
                "uid": "994e5119-aff3-41d7-96fd-b7a2887d1ab9"
              }
            ],
            "_dom_classes": [],
            "_js2py_layoutDelta": null,
            "_js2py_pointsCallback": null,
            "_js2py_relayout": null,
            "_js2py_restyle": {},
            "_js2py_traceDeltas": null,
            "_js2py_update": {},
            "_last_layout_edit_id": 121,
            "_last_trace_edit_id": 120,
            "_layout": {
              "title": {
                "text": "Bayesian Optimization Progress"
              },
              "xaxis": {
                "title": {
                  "text": "PV Panels"
                }
              },
              "yaxis": {
                "title": {
                  "text": "Storage (kWh)"
                }
              }
            },
            "_model_module": "jupyterlab-plotly",
            "_model_module_version": "^5.24.1",
            "_model_name": "FigureModel",
            "_py2js_addTraces": {},
            "_py2js_animate": {},
            "_py2js_deleteTraces": {},
            "_py2js_moveTraces": {},
            "_py2js_relayout": null,
            "_py2js_removeLayoutProps": {},
            "_py2js_removeTraceProps": {},
            "_py2js_restyle": null,
            "_py2js_update": {},
            "_view_count": 1,
            "_view_module": "jupyterlab-plotly",
            "_view_module_version": "^5.24.1",
            "_view_name": "FigureView"
          }
        },
        "7ad58ba15e064ca98975387edd18820d": {
          "model_module": "jupyterlab-plotly",
          "model_name": "FigureModel",
          "model_module_version": "^5.24.1",
          "state": {
            "_config": {
              "plotlyServerURL": "https://plot.ly"
            },
            "_data": [
              {
                "marker": {
                  "color": [],
                  "colorbar": {
                    "len": 0.6,
                    "lenmode": "fraction",
                    "title": {
                      "text": "Obj<br>(unmet+penalty)"
                    }
                  },
                  "colorscale": [
                    [
                      0,
                      "#440154"
                    ],
                    [
                      0.1111111111111111,
                      "#482878"
                    ],
                    [
                      0.2222222222222222,
                      "#3e4989"
                    ],
                    [
                      0.3333333333333333,
                      "#31688e"
                    ],
                    [
                      0.4444444444444444,
                      "#26828e"
                    ],
                    [
                      0.5555555555555556,
                      "#1f9e89"
                    ],
                    [
                      0.6666666666666666,
                      "#35b779"
                    ],
                    [
                      0.7777777777777778,
                      "#6ece58"
                    ],
                    [
                      0.8888888888888888,
                      "#b5de2b"
                    ],
                    [
                      1,
                      "#fde725"
                    ]
                  ],
                  "line": {
                    "color": "DarkSlateGrey",
                    "width": 1
                  },
                  "opacity": 0.8,
                  "showscale": true,
                  "size": 6
                },
                "mode": "markers",
                "x": [],
                "y": [],
                "z": [],
                "type": "scatter3d",
                "uid": "1245e5f4-d07a-4dd6-98a3-d0725dc36692"
              }
            ],
            "_dom_classes": [],
            "_js2py_layoutDelta": null,
            "_js2py_pointsCallback": null,
            "_js2py_relayout": null,
            "_js2py_restyle": {},
            "_js2py_traceDeltas": null,
            "_js2py_update": {},
            "_last_layout_edit_id": 125,
            "_last_trace_edit_id": 120,
            "_layout": {
              "height": 700,
              "margin": {
                "b": 0,
                "l": 0,
                "r": 0,
                "t": 40
              },
              "scene": {
                "camera": {
                  "eye": {
                    "x": 1.5,
                    "y": 1.5,
                    "z": 1.2
                  }
                },
                "xaxis": {
                  "tickfont": {
                    "size": 12
                  },
                  "title": {
                    "font": {
                      "size": 14
                    },
                    "text": "PV Panels"
                  }
                },
                "yaxis": {
                  "tickfont": {
                    "size": 12
                  },
                  "title": {
                    "font": {
                      "size": 14
                    },
                    "text": "Wind Turbines"
                  }
                },
                "zaxis": {
                  "tickfont": {
                    "size": 12
                  },
                  "title": {
                    "font": {
                      "size": 14
                    },
                    "text": "Storage (kWh)"
                  }
                }
              },
              "title": {
                "font": {
                  "size": 20
                },
                "text": "🔍 BO Progress: Panels ↔ Turbines ↔ Storage",
                "x": 0.5
              },
              "width": 900
            },
            "_model_module": "jupyterlab-plotly",
            "_model_module_version": "^5.24.1",
            "_model_name": "FigureModel",
            "_py2js_addTraces": {},
            "_py2js_animate": {},
            "_py2js_deleteTraces": {},
            "_py2js_moveTraces": {},
            "_py2js_relayout": null,
            "_py2js_removeLayoutProps": null,
            "_py2js_removeTraceProps": {},
            "_py2js_restyle": null,
            "_py2js_update": {},
            "_view_count": 1,
            "_view_module": "jupyterlab-plotly",
            "_view_module_version": "^5.24.1",
            "_view_name": "FigureView"
          }
        }
      }
    }
  },
  "nbformat": 4,
  "nbformat_minor": 5
}